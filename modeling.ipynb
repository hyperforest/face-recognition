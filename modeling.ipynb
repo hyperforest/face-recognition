{
 "cells": [
  {
   "cell_type": "code",
   "execution_count": 1,
   "metadata": {},
   "outputs": [],
   "source": [
    "import os\n",
    "import numpy as np\n",
    "from PIL import Image"
   ]
  },
  {
   "cell_type": "code",
   "execution_count": 2,
   "metadata": {},
   "outputs": [],
   "source": [
    "import tensorflow as tf"
   ]
  },
  {
   "cell_type": "code",
   "execution_count": 5,
   "metadata": {},
   "outputs": [],
   "source": [
    "dir_face = 'dataset/face/'\n",
    "dir_non_face = 'dataset/non-face'\n",
    "target_size = (150, 150)\n",
    "\n",
    "faces = [np.array(Image.open(os.path.join(dir_face, x)).resize(target_size))\n",
    "         for x in os.listdir(dir_face)]\n",
    "non_faces = [np.array(Image.open(os.path.join(dir_non_face, x)).resize(target_size))\n",
    "             for x in os.listdir(dir_non_face)]"
   ]
  },
  {
   "cell_type": "code",
   "execution_count": 19,
   "metadata": {},
   "outputs": [],
   "source": [
    "data = np.array(faces + non_faces)\n",
    "label = np.array([1] * len(faces) + [0] * len(non_faces))"
   ]
  },
  {
   "cell_type": "code",
   "execution_count": 25,
   "metadata": {},
   "outputs": [],
   "source": [
    "from tensorflow.keras.layers import Conv2D, Dense, MaxPooling2D, Flatten\n",
    "from tensorflow.keras.models import Sequential"
   ]
  },
  {
   "cell_type": "code",
   "execution_count": 32,
   "metadata": {},
   "outputs": [
    {
     "name": "stdout",
     "output_type": "stream",
     "text": [
      "Model: \"sequential_5\"\n",
      "_________________________________________________________________\n",
      "Layer (type)                 Output Shape              Param #   \n",
      "=================================================================\n",
      "conv2d_7 (Conv2D)            (None, 144, 144, 8)       1184      \n",
      "_________________________________________________________________\n",
      "max_pooling2d_7 (MaxPooling2 (None, 72, 72, 8)         0         \n",
      "_________________________________________________________________\n",
      "conv2d_8 (Conv2D)            (None, 68, 68, 16)        3216      \n",
      "_________________________________________________________________\n",
      "max_pooling2d_8 (MaxPooling2 (None, 34, 34, 16)        0         \n",
      "_________________________________________________________________\n",
      "conv2d_9 (Conv2D)            (None, 32, 32, 32)        4640      \n",
      "_________________________________________________________________\n",
      "max_pooling2d_9 (MaxPooling2 (None, 16, 16, 32)        0         \n",
      "_________________________________________________________________\n",
      "flatten_3 (Flatten)          (None, 8192)              0         \n",
      "_________________________________________________________________\n",
      "dense_10 (Dense)             (None, 64)                524352    \n",
      "_________________________________________________________________\n",
      "dense_11 (Dense)             (None, 1)                 65        \n",
      "=================================================================\n",
      "Total params: 533,457\n",
      "Trainable params: 533,457\n",
      "Non-trainable params: 0\n",
      "_________________________________________________________________\n"
     ]
    }
   ],
   "source": [
    "model = Sequential([\n",
    "    Conv2D(8, (7, 7), activation='relu', input_shape=target_size+(3,)),\n",
    "    MaxPooling2D((2, 2)),\n",
    "    Conv2D(16, (5, 5), activation='relu'),\n",
    "    MaxPooling2D((2, 2)),\n",
    "    Conv2D(32, (3, 3), activation='relu'),\n",
    "    MaxPooling2D((2, 2)),\n",
    "    Flatten(),\n",
    "    Dense(64, activation='relu'),\n",
    "    Dense(1, activation='sigmoid')\n",
    "])\n",
    "\n",
    "model.compile(loss='binary_crossentropy',\n",
    "              optimizer=tf.keras.optimizers.Adam(),\n",
    "              metrics=['acc'])\n",
    "\n",
    "model.summary()"
   ]
  },
  {
   "cell_type": "code",
   "execution_count": 33,
   "metadata": {},
   "outputs": [
    {
     "name": "stdout",
     "output_type": "stream",
     "text": [
      "Train on 6 samples\n",
      "Epoch 1/10\n",
      "6/6 [==============================] - 3s 494ms/sample - loss: 45.5018 - acc: 0.5000\n",
      "Epoch 2/10\n",
      "6/6 [==============================] - 1s 178ms/sample - loss: 144.7949 - acc: 0.5000\n",
      "Epoch 3/10\n",
      "6/6 [==============================] - 1s 178ms/sample - loss: 53.0749 - acc: 0.5000\n",
      "Epoch 4/10\n",
      "6/6 [==============================] - 1s 177ms/sample - loss: 2.8598 - acc: 0.5000\n",
      "Epoch 5/10\n",
      "6/6 [==============================] - 1s 181ms/sample - loss: 4.8965 - acc: 0.6667\n",
      "Epoch 6/10\n",
      "6/6 [==============================] - 1s 183ms/sample - loss: 3.9731 - acc: 0.5000\n",
      "Epoch 7/10\n",
      "6/6 [==============================] - 1s 183ms/sample - loss: 0.0178 - acc: 1.0000\n",
      "Epoch 8/10\n",
      "6/6 [==============================] - 1s 184ms/sample - loss: 2.2810 - acc: 0.5000\n",
      "Epoch 9/10\n",
      "6/6 [==============================] - 1s 181ms/sample - loss: 0.1572 - acc: 0.8333\n",
      "Epoch 10/10\n",
      "6/6 [==============================] - 1s 183ms/sample - loss: 0.0042 - acc: 1.0000\n"
     ]
    },
    {
     "data": {
      "text/plain": [
       "<tensorflow.python.keras.callbacks.History at 0x28d50ddf668>"
      ]
     },
     "execution_count": 33,
     "metadata": {},
     "output_type": "execute_result"
    }
   ],
   "source": [
    "model.fit(data, label, batch_size=len(data), epochs=10)"
   ]
  },
  {
   "cell_type": "code",
   "execution_count": 35,
   "metadata": {},
   "outputs": [],
   "source": [
    "model.save('model.h5')"
   ]
  }
 ],
 "metadata": {
  "kernelspec": {
   "display_name": "Python 3",
   "language": "python",
   "name": "python3"
  },
  "language_info": {
   "codemirror_mode": {
    "name": "ipython",
    "version": 3
   },
   "file_extension": ".py",
   "mimetype": "text/x-python",
   "name": "python",
   "nbconvert_exporter": "python",
   "pygments_lexer": "ipython3",
   "version": "3.6.5"
  }
 },
 "nbformat": 4,
 "nbformat_minor": 4
}
